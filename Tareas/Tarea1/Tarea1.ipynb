{
 "cells": [
  {
   "cell_type": "markdown",
   "metadata": {},
   "source": [
    "## Serie de Fibonacci"
   ]
  },
  {
   "cell_type": "code",
   "execution_count": 1,
   "metadata": {},
   "outputs": [
    {
     "name": "stdout",
     "output_type": "stream",
     "text": [
      "Se genero una función la cual suma de los elementos impares de la serie de fibonacci hasta el primer elemento superior a 100 000\n",
      "el resultado es 135721 .\n"
     ]
    }
   ],
   "source": [
    "print(\"Se genero una función la cual suma de los elementos impares de la serie de fibonacci hasta el primer elemento superior a 100 000\")\n",
    "\n",
    "#Generamos la función que genera el elemento n de la serie de fibbonaci, con n>=2\n",
    "def fibonnaci(n):\n",
    "    x0=0\n",
    "    x1=1\n",
    "    for i in range(0,n-1):\n",
    "        s=x0+x1\n",
    "        x0=x1\n",
    "        x1=s\n",
    "    return s\n",
    "\n",
    "#Generamos la función que suma de elementos impares de la serie de fibonnaci\n",
    "def suma(n):\n",
    "    if n==0:\n",
    "        resultado=0\n",
    "        x=0\n",
    "    if n==1:\n",
    "        resultado=1\n",
    "        x=1\n",
    "    if n>1:\n",
    "        resultado=1\n",
    "        x=2\n",
    "        while resultado<=n:\n",
    "            if fibonnaci(x)%2==1:\n",
    "                resultado=resultado+fibonnaci(x)\n",
    "                x=x+1\n",
    "            else:\n",
    "                x=x+1\n",
    "    return resultado\n",
    "print(\"el resultado es\",suma(100000),\".\")"
   ]
  },
  {
   "cell_type": "markdown",
   "metadata": {},
   "source": [
    "## Turbopalíndromos"
   ]
  },
  {
   "cell_type": "code",
   "execution_count": 2,
   "metadata": {},
   "outputs": [
    {
     "name": "stdout",
     "output_type": "stream",
     "text": [
      "la cantidad de turbopalíndromos entre 1 y 200 000 es:\n",
      "1224\n"
     ]
    }
   ],
   "source": [
    "def rot(A,j):\n",
    "#A=2639\n",
    "#j=0\n",
    "    numeracion=[]\n",
    "    for i in range(0,len(str(A))):\n",
    "#Tomamos la componente de la posición i que va de 0 a len(str(A)), le sumamos 1 para que se encuentre en base 10\n",
    "        B=(i+1)+int(str(A)[j])\n",
    "#Luego le sumamos el número j que queremos recorrer\n",
    "#Obtenemos el  cociente de ese numero que será el multiplo menor del intervalo. Esto nos dará un numero entre 1 a len(str(A))\n",
    "        C=B//len(str(A))\n",
    "#Luego regresamos al espacio 0 a len(str(A))\n",
    "        ax=abs(B-C*len(str(A)))-1\n",
    "#Obtenemos un caso especial con el -1\n",
    "        if ax==-1:\n",
    "            ax=len(str(A))-1\n",
    "        numeracion.append(ax)\n",
    "    \n",
    "    contador=0\n",
    "    resultado=\"\"\n",
    "    while contador<(len(str(A))):\n",
    "        for i in range(0,len(str(A))):\n",
    "        #Asi verificaremos cada número y su respectivo valor en la cuenta\n",
    "            if contador==numeracion[i]:\n",
    "            #\"Por ultimo sumamos la cadena de texto para dar el resutado final\"\n",
    "                resultado=resultado+str(A)[i]\n",
    "        contador=contador+1\n",
    "    return int(resultado)\n",
    "#Me causo un error una vez y el ejemplo invertía el orden, hay que tener cuidado.\n",
    "\n",
    "def r(A):\n",
    "#Factores de prueba\n",
    "#A=2639\n",
    "    Suma=A\n",
    "    for k in range(0,len(str(A))):\n",
    "        Suma=Suma+rot(A,k)*(-1)**k\n",
    "    return abs(Suma)\n",
    "\n",
    "def comparador(a,b):\n",
    "    list=[]\n",
    "    for i in range(a,b):\n",
    "        #Comparación en todo el intervalo\n",
    "        #Si es palindromo:\n",
    "        if str(r(i))==str(r(i))[::-1]:\n",
    "            list.append(i)\n",
    "            #Guarda el turbopalindromo i\n",
    "    return list\n",
    "\n",
    "a=1\n",
    "b=200000+1\n",
    "print(\"la cantidad de turbopalíndromos entre 1 y 200 000 es:\")\n",
    "print(len(comparador(a,b)))\n",
    "\n",
    "#El resultado me dio: 1224 turbopalíndromos"
   ]
  },
  {
   "cell_type": "markdown",
   "metadata": {},
   "source": [
    "## Sorting"
   ]
  },
  {
   "cell_type": "code",
   "execution_count": 3,
   "metadata": {},
   "outputs": [
    {
     "name": "stdout",
     "output_type": "stream",
     "text": [
      "Ingrese una secuencia de valores naturales separados por coma: 9,44,2,14,87,214,7,12,9,1,32\n",
      "El conjunto ordenado es \n",
      "[1, 2, 7, 9, 9, 12, 14, 32, 44, 87, 214]\n"
     ]
    }
   ],
   "source": [
    "debug = False #Cambien este valor a False para pedir los datos al usuario\n",
    "\n",
    "#Arreglo de entrenamiento\n",
    "text = \"6,3,9,5,1,7,1\"\n",
    "\n",
    "if not debug:\n",
    "    text = input(\"Ingrese una secuencia de valores naturales separados por coma: \")\n",
    "    \n",
    "    #Convertimos la cadena de caracteres en una lista\n",
    "values = [int(i) for i in text.split(',')]\n",
    "\n",
    "# Coloquen aquí su algoritmo de acomodo para acomodar la variable values\n",
    "solucion=[]\n",
    "solucion.append(values[0])\n",
    "#Compararemos el numero de la lista values con el ya dado\n",
    "for i in range(1,len(values)):\n",
    "    #Para saber donde añadir el valor usaremos un contador\n",
    "    n=0\n",
    "    for j in range(0,len(solucion)):\n",
    "        if values[i]>solucion[j]:\n",
    "            n=n+1\n",
    "    #Asi sabemos en que posición colocarlo        \n",
    "    solucion.insert(n,values[i])\n",
    "print(\"El conjunto ordenado es \")\n",
    "print(solucion)    \n",
    "\n",
    "#A veces sirve escribiendo con \"_\" al conjunto."
   ]
  }
 ],
 "metadata": {
  "kernelspec": {
   "display_name": "Python 3",
   "language": "python",
   "name": "python3"
  },
  "language_info": {
   "codemirror_mode": {
    "name": "ipython",
    "version": 3
   },
   "file_extension": ".py",
   "mimetype": "text/x-python",
   "name": "python",
   "nbconvert_exporter": "python",
   "pygments_lexer": "ipython3",
   "version": "3.6.1"
  }
 },
 "nbformat": 4,
 "nbformat_minor": 2
}
